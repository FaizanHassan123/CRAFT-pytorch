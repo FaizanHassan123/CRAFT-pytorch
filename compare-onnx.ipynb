{
 "cells": [
  {
   "cell_type": "code",
   "execution_count": 1,
   "id": "b53e7ab9",
   "metadata": {},
   "outputs": [],
   "source": [
    "model_path=\"craft_mlt_25k-opset-11.onnx\"\n",
    "# model_path=\"E:/Projects/DATA/weights/detectors/EAST.pb\"\n",
    "# image_path = \"E:/Projects/DATA/license_plate/plates/6.jpg\"\n",
    "image_path=\"D:/Projects/CRAFT-pytorch/data/1.jpg\"\n",
    "inpWidth = 768\n",
    "inpHeight = 768\n",
    "outNames = []"
   ]
  },
  {
   "cell_type": "code",
   "execution_count": 2,
   "id": "fd770a43",
   "metadata": {},
   "outputs": [],
   "source": [
    "import cv2 as cv"
   ]
  },
  {
   "cell_type": "code",
   "execution_count": 3,
   "id": "9ce90359",
   "metadata": {},
   "outputs": [],
   "source": [
    "frame = cv.imread(image_path)\n",
    "# cv.imwrite('this-test.jpg',cv.imread())"
   ]
  },
  {
   "cell_type": "code",
   "execution_count": 4,
   "id": "232f0634",
   "metadata": {},
   "outputs": [
    {
     "ename": "AttributeError",
     "evalue": "'NoneType' object has no attribute 'shape'",
     "output_type": "error",
     "traceback": [
      "\u001b[1;31m---------------------------------------------------------------------------\u001b[0m",
      "\u001b[1;31mAttributeError\u001b[0m                            Traceback (most recent call last)",
      "Cell \u001b[1;32mIn[4], line 1\u001b[0m\n\u001b[1;32m----> 1\u001b[0m height_ \u001b[38;5;241m=\u001b[39m \u001b[43mframe\u001b[49m\u001b[38;5;241;43m.\u001b[39;49m\u001b[43mshape\u001b[49m[\u001b[38;5;241m0\u001b[39m]\n\u001b[0;32m      2\u001b[0m width_ \u001b[38;5;241m=\u001b[39m frame\u001b[38;5;241m.\u001b[39mshape[\u001b[38;5;241m1\u001b[39m]\n\u001b[0;32m      3\u001b[0m rW \u001b[38;5;241m=\u001b[39m width_ \u001b[38;5;241m/\u001b[39m \u001b[38;5;28mfloat\u001b[39m(inpWidth)\n",
      "\u001b[1;31mAttributeError\u001b[0m: 'NoneType' object has no attribute 'shape'"
     ]
    }
   ],
   "source": [
    "height_ = frame.shape[0]\n",
    "width_ = frame.shape[1]\n",
    "rW = width_ / float(inpWidth)\n",
    "rH = height_ / float(inpHeight)"
   ]
  },
  {
   "cell_type": "code",
   "execution_count": null,
   "id": "e736fb85",
   "metadata": {},
   "outputs": [],
   "source": [
    "blob = cv.dnn.blobFromImage(frame, 1.0, (inpWidth, inpHeight), (123.68, 116.78, 103.94), True, False)"
   ]
  },
  {
   "cell_type": "code",
   "execution_count": null,
   "id": "e4b2b92d",
   "metadata": {},
   "outputs": [],
   "source": [
    "detector = cv.dnn.readNet(model_path)"
   ]
  },
  {
   "cell_type": "code",
   "execution_count": null,
   "id": "16c1413d",
   "metadata": {},
   "outputs": [],
   "source": [
    "detector.setInput(blob)"
   ]
  },
  {
   "cell_type": "code",
   "execution_count": null,
   "id": "7021b549",
   "metadata": {},
   "outputs": [],
   "source": [
    "outs = detector.forward(outNames)"
   ]
  },
  {
   "cell_type": "code",
   "execution_count": null,
   "id": "2044812f",
   "metadata": {},
   "outputs": [],
   "source": [
    "outs[0]"
   ]
  },
  {
   "cell_type": "code",
   "execution_count": null,
   "id": "741710e0",
   "metadata": {},
   "outputs": [],
   "source": []
  }
 ],
 "metadata": {
  "kernelspec": {
   "display_name": "craft-pytorch",
   "language": "python",
   "name": "craft-pytorch"
  },
  "language_info": {
   "codemirror_mode": {
    "name": "ipython",
    "version": 3
   },
   "file_extension": ".py",
   "mimetype": "text/x-python",
   "name": "python",
   "nbconvert_exporter": "python",
   "pygments_lexer": "ipython3",
   "version": "3.10.5"
  }
 },
 "nbformat": 4,
 "nbformat_minor": 5
}
