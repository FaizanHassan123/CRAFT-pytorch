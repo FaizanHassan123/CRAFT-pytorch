{
 "cells": [
  {
   "cell_type": "code",
   "execution_count": 1,
   "id": "1efff3e0",
   "metadata": {},
   "outputs": [],
   "source": [
    "model_path = \"craft_mlt_25k.pth\""
   ]
  },
  {
   "cell_type": "code",
   "execution_count": 2,
   "id": "97c5a49f",
   "metadata": {},
   "outputs": [],
   "source": [
    "import torch\n",
    "import onnx\n",
    "from craft import CRAFT # Class from Craft Repository (https://github.com/clovaai/CRAFT-pytorch) \n",
    "from collections import OrderedDict"
   ]
  },
  {
   "cell_type": "code",
   "execution_count": 3,
   "id": "909e7fdd",
   "metadata": {},
   "outputs": [],
   "source": [
    "def copyStateDict(state_dict):\n",
    "    if list(state_dict.keys())[0].startswith(\"module\"):\n",
    "        start_idx = 1\n",
    "    else:\n",
    "        start_idx = 0\n",
    "    new_state_dict = OrderedDict()\n",
    "    for k, v in state_dict.items():\n",
    "        name = \".\".join(k.split(\".\")[start_idx:])\n",
    "        new_state_dict[name] = v\n",
    "    return new_state_dict"
   ]
  },
  {
   "cell_type": "code",
   "execution_count": 4,
   "id": "fa74a4a5",
   "metadata": {},
   "outputs": [],
   "source": [
    "# Load the model and its weights\n",
    "model = CRAFT()\n",
    "model.load_state_dict(copyStateDict(torch.load(model_path, map_location='cpu')))\n",
    "\n",
    "# Set the model to evaluation mode\n",
    "model.eval()"
   ]
  },
  {
   "cell_type": "code",
   "execution_count": 5,
   "id": "16a0b879",
   "metadata": {},
   "outputs": [],
   "source": [
    "dummy_input = torch.randn(1, 3, 768, 768, device=\"cpu\")"
   ]
  },
  {
   "cell_type": "code",
   "execution_count": 6,
   "id": "7ed77d9e",
   "metadata": {},
   "outputs": [],
   "source": [
    "input_names = [ \"actual_input_1\" ] + [ \"learned_%d\" % i for i in range(16) ]\n",
    "output_names = [ \"output1\" ]"
   ]
  },
  {
   "cell_type": "code",
   "execution_count": 7,
   "id": "feffdb35",
   "metadata": {},
   "outputs": [],
   "source": [
    "torch.onnx.export(model, dummy_input, \"craft_mlt_25k.onnx\", verbose=True, input_names=input_names, output_names=output_names)"
   ]
  },
  {
   "cell_type": "code",
   "execution_count": null,
   "id": "ebaaf385",
   "metadata": {},
   "outputs": [],
   "source": []
  }
 ],
 "metadata": {
  "kernelspec": {
   "display_name": "craft-pytorch",
   "language": "python",
   "name": "craft-pytorch"
  },
  "language_info": {
   "codemirror_mode": {
    "name": "ipython",
    "version": 3
   },
   "file_extension": ".py",
   "mimetype": "text/x-python",
   "name": "python",
   "nbconvert_exporter": "python",
   "pygments_lexer": "ipython3",
   "version": "3.10.9"
  }
 },
 "nbformat": 4,
 "nbformat_minor": 5
}
